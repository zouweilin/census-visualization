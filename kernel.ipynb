{
  "cells": [
    {
      "metadata": {
        "_uuid": "baf256aa0c1e867b15a4c34ebe17fdf175b1a98f",
        "collapsed": true,
        "_cell_guid": "1a799ff8-1022-467c-b7c6-b66530691133"
      },
      "cell_type": "markdown",
      "source": "Messing around with the US census dataset"
    },
    {
      "metadata": {
        "_uuid": "8f2839f25d086af736a60e9eeb907d3b93b6e0e5",
        "_cell_guid": "b1076dfc-b9ad-4769-8c92-a6c4dae69d19",
        "trusted": false
      },
      "cell_type": "code",
      "source": "# This Python 3 environment comes with many helpful analytics libraries installed\n# It is defined by the kaggle/python docker image: https://github.com/kaggle/docker-python\n# For example, here's several helpful packages to load in \n\nimport numpy as np # linear algebra\nimport pandas as pd # data processing, CSV file I/O (e.g. pd.read_csv)\nimport seaborn as sns\n\n# Input data files are available in the \"../input/\" directory.\n# For example, running this (by clicking run or pressing Shift+Enter) will list the files in the input directory\n\nimport os\nprint(os.listdir(\"../input\"))\n# Any results you write to the current directory are saved as output.",
      "execution_count": null,
      "outputs": []
    },
    {
      "metadata": {
        "_uuid": "d629ff2d2480ee46fbb7e2d37f6b5fab8052498a",
        "_cell_guid": "79c7e3d0-c299-4dcb-8224-4455121ee9b0",
        "trusted": false
      },
      "cell_type": "code",
      "source": "# This is the data for \"County Data\"\nmain_file_path = '../input/acs2015_county_data.csv'\ndata1 = pd.read_csv(main_file_path)\n\n# These are the columns for the \"County Data\"\ndata1.columns",
      "execution_count": null,
      "outputs": []
    },
    {
      "metadata": {
        "_uuid": "5da81ca78479a315db1b7bf16a3fadb9647e42bf",
        "_cell_guid": "ce9e61ab-e4d7-47e0-8f61-417ca22351e5",
        "trusted": false
      },
      "cell_type": "code",
      "source": "# This is the data for \"Census Tract Data\"\nmain_file_path2 = '../input/acs2015_census_tract_data.csv'\ndata2 = pd.read_csv(main_file_path2)\n\n# These are the columns for the \"Census Tract data\"\ndata2.columns",
      "execution_count": null,
      "outputs": []
    },
    {
      "metadata": {
        "_uuid": "77c8038573add03bf9a6240e87d99c6f4d5935c1",
        "_cell_guid": "ad21f7db-5f85-4a32-9947-6da1bd78f8fc",
        "trusted": false
      },
      "cell_type": "code",
      "source": "# It looks like the columns for the \"County Data\" and the \"Census Tract data\" are pretty similar. What is the difference between them?\n# This is a summary of \"County Data\"\ndata1.describe()\n",
      "execution_count": null,
      "outputs": []
    },
    {
      "metadata": {
        "_uuid": "964b57138ef019c413387ae77e372c53e4e33239",
        "_cell_guid": "8fe773c9-7662-422f-a9da-e9ac81efcf7d",
        "trusted": false
      },
      "cell_type": "code",
      "source": "data2.describe()",
      "execution_count": null,
      "outputs": []
    },
    {
      "metadata": {
        "_uuid": "f18a8b8b417726ef9b89cdd60b5aa55059626268",
        "_cell_guid": "7d59f2d4-3989-48f2-aea7-484abdbbf3c7",
        "trusted": false
      },
      "cell_type": "code",
      "source": "data1.head()",
      "execution_count": null,
      "outputs": []
    },
    {
      "metadata": {
        "_uuid": "16dd266961a44f971fd9e70ef06c85e24d499cbc",
        "_cell_guid": "d62e048b-4207-41f2-811d-08c1c7c502c5",
        "trusted": false
      },
      "cell_type": "code",
      "source": "data2.head()",
      "execution_count": null,
      "outputs": []
    },
    {
      "metadata": {
        "_uuid": "29ed2add2843cd11d5d7e58d94c73ba0d035f464",
        "_cell_guid": "b16b387b-f8d6-4586-8620-c15a04e15d24",
        "trusted": false
      },
      "cell_type": "code",
      "source": "data2.shape",
      "execution_count": null,
      "outputs": []
    },
    {
      "metadata": {
        "_uuid": "e8c67e718792cb5445c97d285a78c410093f59de",
        "_cell_guid": "a93c6715-e680-4c50-a7a7-f6870937d9e1",
        "trusted": false
      },
      "cell_type": "code",
      "source": "#Ok I think I understand, the values in data2 are smaller subsections of data used to create the values in data which is sorted by County, I guess we'll use data1 from now on\ndata1.shape",
      "execution_count": null,
      "outputs": []
    },
    {
      "metadata": {
        "_uuid": "c8ffbb666b5036bb4644768795551f572a13401f",
        "_cell_guid": "0e8db68e-fd47-49fb-b8a3-bd2ffb8a3e8e",
        "trusted": false
      },
      "cell_type": "code",
      "source": "#going to drop any rows with Null values, this is to see the before and after so we can see what we're doing\n#Great! Doesn't look like we lost too many values!\ndata1 = data1.dropna()\ndata1.shape",
      "execution_count": null,
      "outputs": []
    },
    {
      "metadata": {
        "_uuid": "4cb75dd8250321afc380ccd0a163443444905859",
        "_cell_guid": "b8a7bd0b-ade4-4e91-ba04-abe2a744dedb",
        "trusted": false
      },
      "cell_type": "code",
      "source": "#Lets see how many of each race is in the US as a percentage of the total \nrace_columns = ['White','Black','Native','Asian','Pacific']\ncensus_races =data1[race_columns]\n\n#There are more white people than black people as expected\n(census_races.sum()/len(census_races)).plot.bar(title = \"Percentage of Americans by Race\")",
      "execution_count": null,
      "outputs": []
    },
    {
      "metadata": {
        "_uuid": "81a80b90c5d181c51e7adc6ab93d48bf50b822e2",
        "_cell_guid": "10207d6b-2182-44bf-b4a2-b929ea703bc1",
        "trusted": false
      },
      "cell_type": "code",
      "source": "f = ( data1.loc[:, ['Hispanic', 'Black', 'White', 'Asian', 'Native','Pacific','Poverty']]).corr()\n\nsns.heatmap(f, annot=True)",
      "execution_count": null,
      "outputs": []
    },
    {
      "metadata": {
        "_uuid": "c700a151c8349ed11a962e6c7591d7ecc666969d",
        "_cell_guid": "54229bdd-ad26-46fe-ba60-2fb65f12e351"
      },
      "cell_type": "markdown",
      "source": "Here is a heatmap to see correlations between races and poverty. If you focus on the right-most column, you'll see which races are most correlated with poverty. Hispanic is the most, and white is the least. The most strongly negatively correlated features are between hispanics and whites, so the more hispanics you have the less whites you have., and the second most strongly correlated feature is whites and poverty.\n\nThere is a negative correlation between hispanic and black areas interestingly\n"
    },
    {
      "metadata": {
        "_uuid": "24a3336bb47b791a7f7b11e337bb0eeaaa5fee58",
        "_cell_guid": "02a992d6-5692-4ba7-aed1-49706c43c199",
        "trusted": false
      },
      "cell_type": "code",
      "source": "#Although there are many non-black areas stricken with poverty, it is clear to see as the percentage black increases, poverty does too\nsns.jointplot(x='Black', y='Poverty', data=data1, kind=\"reg\")",
      "execution_count": null,
      "outputs": []
    },
    {
      "metadata": {
        "_uuid": "c3bbb20cd27eb5fdf8d7999f6b81ccffb0a78c7b",
        "_cell_guid": "c641e3bd-29c8-4380-9164-e3fe188333f6",
        "trusted": false
      },
      "cell_type": "code",
      "source": "#it's interesting to see that as percent White increases, poverty levels decrease until about 80% white. However, they rise again afterwards. Maybe this is due to rural farm communities?\nsns.jointplot(x=\"White\",y=\"Poverty\", data = data1, kind=\"reg\")",
      "execution_count": null,
      "outputs": []
    },
    {
      "metadata": {
        "_uuid": "afd98730ba4b0f89ca50fd3760e31396f4455b2e",
        "_cell_guid": "4e3ddaa5-8024-4229-a128-86a0cc2db360",
        "trusted": false
      },
      "cell_type": "code",
      "source": "#This plot shows the above information, but it really shows how white most Counties in America are.\nsns.jointplot(x=\"White\",y=\"Poverty\", data = data1, kind = \"hex\")",
      "execution_count": null,
      "outputs": []
    },
    {
      "metadata": {
        "_uuid": "68aaa12423540a33933accf7273e270eed8d1346",
        "_cell_guid": "6320d182-1409-4c5c-8df3-a9874341cfb5",
        "trusted": false
      },
      "cell_type": "code",
      "source": "#Asian percentages are also inversely correlated with poverty, however, you can see that the communities that are very strongly asian, there is limited poverty. The correlation may be a little misleading in this case since\n#I think the strength of the relationship is more powerful than the value implies.\nsns.lmplot(x=\"Asian\", y= \"Poverty\", data = data1, lowess=True)",
      "execution_count": null,
      "outputs": []
    },
    {
      "metadata": {
        "_uuid": "d524bec8fea9e0fe96ff9c1ffc68005d6970c371",
        "_cell_guid": "7d1fac4d-02dd-4509-aae9-fa3dae809513",
        "trusted": false
      },
      "cell_type": "code",
      "source": "#There are two interesting pieces of information. 1: There are areas in the US which are almost 100% hispanic. 2: These areas are very poor.\nsns.jointplot(x=\"Hispanic\",y = \"Poverty\",data = data1, kind=\"reg\")",
      "execution_count": null,
      "outputs": []
    }
  ],
  "metadata": {
    "language_info": {
      "pygments_lexer": "ipython3",
      "file_extension": ".py",
      "name": "python",
      "mimetype": "text/x-python",
      "nbconvert_exporter": "python",
      "codemirror_mode": {
        "name": "ipython",
        "version": 3
      },
      "version": "3.6.4"
    },
    "kernelspec": {
      "display_name": "Python 3",
      "language": "python",
      "name": "python3"
    }
  },
  "nbformat": 4,
  "nbformat_minor": 1
}